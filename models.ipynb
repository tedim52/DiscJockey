{
 "cells": [
  {
   "cell_type": "markdown",
   "metadata": {},
   "source": [
    "# How to make a personal DJ in 5 simple steps\n",
    "\n",
    "We set out to create a personal DJ that had the power to recommend create a curated party playlist for you. In order to do this, we needed to create a recommender system that could distinguish between a song that was \"party\" and a song that was \"non-party\" based off of audio featuers such as danceability, energy, valene, and tempo.\n",
    "\n",
    "We accomplished this in 5 simple steps.\n",
    "1) Setting out our Environment\n",
    "2) Retrieving/Cleaning/Visualizing/Analyzing the data\n",
    "3) Training Classification Models\n",
    "4) Testing the Models\n",
    "5) Choosing the best fit model and encapsulating the recommener in a DJ class\n",
    "\n",
    "They might not sound so simple but in this notebook we try and break it down as best as possible.\n"
   ]
  },
  {
   "cell_type": "markdown",
   "metadata": {},
   "source": [
    "Step 1: Setting out our Environment\n",
    "To set up our environment we needed to do 2 main things, 1) import all necessary packages for data handling and machine learning and 2) Configure out Spotipy to allow us to retrieve music data using Spotify's WEB API.\n",
    "Spotipy is a python wrapper for Spotify's Web API that allows you to easily retrieve music information. More info can be found here: https://spotipy.readthedocs.io/en/2.12.0/."
   ]
  },
  {
   "cell_type": "code",
   "execution_count": 29,
   "metadata": {},
   "outputs": [],
   "source": [
    "import os\n",
    "import math\n",
    "import pandas as pd\n",
    "import numpy as np\n",
    "import matplotlib\n",
    "import matplotlib.pyplot as plt\n",
    "from sklearn.model_selection import train_test_split\n",
    "from sklearn.preprocessing import StandardScaler\n",
    "from sklearn.metrics import accuracy_score, confusion_matrix, classification_report\n",
    "import spotipy\n",
    "from spotipy.oauth2 import SpotifyClientCredentials"
   ]
  },
  {
   "cell_type": "code",
   "execution_count": 17,
   "metadata": {},
   "outputs": [],
   "source": [
    "#Spotify API Setup\n",
    "SPOTIPY_CLIENT_ID = \"236e81909708434598e63e00fe671955\"\n",
    "SPOTIPY_CLIENT_SECRET = \"5d574a1eb8f940b783b72b00c5eb4658\"\n",
    "cc = SpotifyClientCredentials(client_id=SPOTIPY_CLIENT_ID, client_secret=SPOTIPY_CLIENT_SECRET)\n",
    "sp = spotipy.Spotify(client_credentials_manager=cc)"
   ]
  },
  {
   "cell_type": "markdown",
   "metadata": {},
   "source": [
    "Step 2: Retrieving/Cleaning/Visualizing/Analyzing the data\n",
    "In order to create a \"DJ\" that could recommend you party songs, we needed music data... a lot of music data. This seciton goes through the process of creating a pandas dataframe that retrieves hundreds of \"party\" songs that we classify as a party song by giving it a 1 and hundreds of non party songs that we classify as a non party song by giving it a 0. We then pass the models the audio features as featuers and the party as a target and train it to detect wheteher a song is \"party\" enough based off of its audio features. Before we can do that, we need to capture this information in a table that the model can read. "
   ]
  },
  {
   "cell_type": "code",
   "execution_count": 18,
   "metadata": {},
   "outputs": [],
   "source": [
    "#Create music dataframe of party songs and non party songs\n",
    "columns = [\"track_id\", \"song\", \"acousticness\", \"danceability\", \"energy\",\n",
    "            \"instrumentalness\", \"liveness\", \"loudness\", \"speechiness\",\n",
    "            \"valence\", \"tempo\", \"party\"]\n",
    "music = pd.DataFrame(columns=columns)"
   ]
  },
  {
   "cell_type": "code",
   "execution_count": 19,
   "metadata": {},
   "outputs": [],
   "source": [
    "#Two playlists created by us that we populated with \"party\" and \"non party songs\"\n",
    "#Here's the link to the party playlist we used: https://open.spotify.com/playlist/5ge2YqUbZrmqd2Mve8Uezf?si=m7ms4-EfQj6VFBsN5o-BbA\n",
    "party_playlist_id = \"5ge2YqUbZrmqd2Mve8Uezf?si=VVFB-RkdQMOpy1BffTeozQ\"\n",
    "#Here's the link for the non-party playlist we used: https://open.spotify.com/playlist/1vviyyoqxJyVpnNL4Cf6Xz?si=17SoNRa-RNuMVNG60DlWEg\n",
    "non_party_playlist_id = \"1vviyyoqxJyVpnNL4Cf6Xz?si=FtKKu3ICSaWPOY7st55HbQ\""
   ]
  },
  {
   "cell_type": "code",
   "execution_count": 20,
   "metadata": {},
   "outputs": [],
   "source": [
    "def song_to_df(track_id, song_name, party):\n",
    "    song_features = sp.audio_features(track_id)[0]\n",
    "    song_data = {'track_id': track_id,\n",
    "                 'song': song_name,\n",
    "                 'acousticness': song_features.get(\"acousticness\"),\n",
    "                 'danceability': song_features.get(\"danceability\"),\n",
    "                 'energy': song_features.get(\"energy\"),\n",
    "                 'instrumentalness': song_features.get(\"instrumentalness\"),\n",
    "                 'liveness': song_features.get(\"liveness\"),\n",
    "                 'loudness': song_features.get(\"loudness\"),\n",
    "                 'speechiness': song_features.get(\"speechiness\"),\n",
    "                 'valence': song_features.get(\"valence\"),\n",
    "                 'tempo': song_features.get(\"tempo\"),\n",
    "                 'party': party\n",
    "                }\n",
    "    return song_data"
   ]
  },
  {
   "cell_type": "code",
   "execution_count": 21,
   "metadata": {},
   "outputs": [],
   "source": [
    "def playlist_to_df(df, playlist_id, party):\n",
    "    songs = sp.playlist_tracks(playlist_id).get(\"tracks\").get(\"items\")\n",
    "    music_frame = df\n",
    "    for song in songs:\n",
    "        track = song.get(\"track\")\n",
    "        song_name = track.get(\"name\")\n",
    "        track_id = track.get(\"id\")\n",
    "        song_data = song_to_df(track_id, song_name, party)\n",
    "        music_frame = music_frame.append(song_data, ignore_index=True)\n",
    "\n",
    "        #In order to increase the size of our data pool, we utilize a feature from Spotifys Web API that gets 5 similar songs for every song\n",
    "        recommendations = sp.recommendations(seed_tracks=[track_id], limit = 5).get(\"tracks\")\n",
    "        for recommendation in recommendations:\n",
    "            r_song_name = recommendation.get(\"name\")\n",
    "            r_track_id = recommendation.get(\"id\")\n",
    "            r_song_data = song_to_df(r_track_id, r_song_name, party)\n",
    "            music_frame = music_frame.append(r_song_data, ignore_index=True)\n",
    "    return music_frame\n"
   ]
  },
  {
   "cell_type": "code",
   "execution_count": 32,
   "metadata": {},
   "outputs": [
    {
     "data": {
      "text/html": [
       "<div>\n",
       "<style scoped>\n",
       "    .dataframe tbody tr th:only-of-type {\n",
       "        vertical-align: middle;\n",
       "    }\n",
       "\n",
       "    .dataframe tbody tr th {\n",
       "        vertical-align: top;\n",
       "    }\n",
       "\n",
       "    .dataframe thead th {\n",
       "        text-align: right;\n",
       "    }\n",
       "</style>\n",
       "<table border=\"1\" class=\"dataframe\">\n",
       "  <thead>\n",
       "    <tr style=\"text-align: right;\">\n",
       "      <th></th>\n",
       "      <th>track_id</th>\n",
       "      <th>song</th>\n",
       "      <th>acousticness</th>\n",
       "      <th>danceability</th>\n",
       "      <th>energy</th>\n",
       "      <th>instrumentalness</th>\n",
       "      <th>liveness</th>\n",
       "      <th>loudness</th>\n",
       "      <th>speechiness</th>\n",
       "      <th>valence</th>\n",
       "      <th>tempo</th>\n",
       "      <th>party</th>\n",
       "    </tr>\n",
       "  </thead>\n",
       "  <tbody>\n",
       "    <tr>\n",
       "      <th>0</th>\n",
       "      <td>6yrnPCDXguFp5eZTGmZawc</td>\n",
       "      <td>Gary's Theme - Remastered</td>\n",
       "      <td>0.9050</td>\n",
       "      <td>0.420</td>\n",
       "      <td>0.0802</td>\n",
       "      <td>0.857</td>\n",
       "      <td>0.1350</td>\n",
       "      <td>-21.795</td>\n",
       "      <td>0.0400</td>\n",
       "      <td>0.0541</td>\n",
       "      <td>122.041</td>\n",
       "      <td>0</td>\n",
       "    </tr>\n",
       "    <tr>\n",
       "      <th>1</th>\n",
       "      <td>0suLmBuEbatdochI4tHduq</td>\n",
       "      <td>FEELING GUD</td>\n",
       "      <td>0.0145</td>\n",
       "      <td>0.484</td>\n",
       "      <td>0.9400</td>\n",
       "      <td>0.000323</td>\n",
       "      <td>0.2660</td>\n",
       "      <td>-3.682</td>\n",
       "      <td>0.2570</td>\n",
       "      <td>0.3340</td>\n",
       "      <td>173.741</td>\n",
       "      <td>1</td>\n",
       "    </tr>\n",
       "    <tr>\n",
       "      <th>2</th>\n",
       "      <td>79s5XnCN4TJKTVMSmOx8Ep</td>\n",
       "      <td>Dior</td>\n",
       "      <td>0.2120</td>\n",
       "      <td>0.548</td>\n",
       "      <td>0.8050</td>\n",
       "      <td>0.000389</td>\n",
       "      <td>0.4080</td>\n",
       "      <td>-5.732</td>\n",
       "      <td>0.3510</td>\n",
       "      <td>0.6480</td>\n",
       "      <td>142.094</td>\n",
       "      <td>1</td>\n",
       "    </tr>\n",
       "    <tr>\n",
       "      <th>3</th>\n",
       "      <td>7njAZhca4o80qQdCgyEWya</td>\n",
       "      <td>The Four Seasons, Violin Concerto No. 4 in F M...</td>\n",
       "      <td>0.8980</td>\n",
       "      <td>0.330</td>\n",
       "      <td>0.0649</td>\n",
       "      <td>6.19e-05</td>\n",
       "      <td>0.0931</td>\n",
       "      <td>-25.176</td>\n",
       "      <td>0.0443</td>\n",
       "      <td>0.3400</td>\n",
       "      <td>83.398</td>\n",
       "      <td>0</td>\n",
       "    </tr>\n",
       "    <tr>\n",
       "      <th>4</th>\n",
       "      <td>4PRnYCH5hoxypKVcOBvx3a</td>\n",
       "      <td>Danse Macabre, Op.40, R.171</td>\n",
       "      <td>0.8980</td>\n",
       "      <td>0.371</td>\n",
       "      <td>0.1310</td>\n",
       "      <td>0.925</td>\n",
       "      <td>0.0847</td>\n",
       "      <td>-23.899</td>\n",
       "      <td>0.0413</td>\n",
       "      <td>0.0655</td>\n",
       "      <td>105.328</td>\n",
       "      <td>0</td>\n",
       "    </tr>\n",
       "  </tbody>\n",
       "</table>\n",
       "</div>"
      ],
      "text/plain": [
       "                 track_id                                               song  \\\n",
       "0  6yrnPCDXguFp5eZTGmZawc                          Gary's Theme - Remastered   \n",
       "1  0suLmBuEbatdochI4tHduq                                        FEELING GUD   \n",
       "2  79s5XnCN4TJKTVMSmOx8Ep                                               Dior   \n",
       "3  7njAZhca4o80qQdCgyEWya  The Four Seasons, Violin Concerto No. 4 in F M...   \n",
       "4  4PRnYCH5hoxypKVcOBvx3a                        Danse Macabre, Op.40, R.171   \n",
       "\n",
       "   acousticness  danceability  energy instrumentalness  liveness  loudness  \\\n",
       "0        0.9050         0.420  0.0802            0.857    0.1350   -21.795   \n",
       "1        0.0145         0.484  0.9400         0.000323    0.2660    -3.682   \n",
       "2        0.2120         0.548  0.8050         0.000389    0.4080    -5.732   \n",
       "3        0.8980         0.330  0.0649         6.19e-05    0.0931   -25.176   \n",
       "4        0.8980         0.371  0.1310            0.925    0.0847   -23.899   \n",
       "\n",
       "   speechiness  valence    tempo party  \n",
       "0       0.0400   0.0541  122.041     0  \n",
       "1       0.2570   0.3340  173.741     1  \n",
       "2       0.3510   0.6480  142.094     1  \n",
       "3       0.0443   0.3400   83.398     0  \n",
       "4       0.0413   0.0655  105.328     0  "
      ]
     },
     "execution_count": 32,
     "metadata": {},
     "output_type": "execute_result"
    }
   ],
   "source": [
    "#Putting all the data together to create a combined dataframe of party and non party music\n",
    "music = playlist_to_df(music, party_playlist_id, 1)\n",
    "music = playlist_to_df(music, non_party_playlist_id, 0)\n",
    "music = music.sample(frac = 1)\n",
    "music = music.reset_index();\n",
    "music = music.drop([\"index\"], axis = 1)\n",
    "music.head()"
   ]
  },
  {
   "cell_type": "markdown",
   "metadata": {},
   "source": [
    "Visualizing the data:\n",
    "\n",
    "In order to gain insights about how audio features can be used to distinguish between a party music and non party music, we want to visualize the audio features of our party music data and our non party music data and compare them to see if there are any differences."
   ]
  },
  {
   "cell_type": "code",
   "execution_count": 30,
   "metadata": {},
   "outputs": [
    {
     "data": {
      "image/png": "[encoded data removed]",
      "text/plain": [
       "<Figure size 1224x1080 with 9 Axes>"
      ]
     },
     "metadata": {
      "needs_background": "light"
     },
     "output_type": "display_data"
    }
   ],
   "source": [
    "df = music\n",
    "target = 'party'\n",
    "cols = ['acousticness', 'danceability', 'energy', 'instrumentalness', 'liveness', 'loudness', 'speechiness', 'valence', 'tempo']\n",
    "i = 0\n",
    "nRows = math.ceil(len(cols) / 3)\n",
    "nCols = 3\n",
    "f = plt.figure(figsize=(17,15))\n",
    "\n",
    "for col in cols:\n",
    "    i += 1\n",
    "    ax = f.add_subplot(nRows * 100 + nCols * 10 + i)\n",
    "    ax.scatter(df[col],df[target], c = df[target]) #np.vectorize(color_chooser)(df[target]))\n",
    "    ax.axvline(np.mean(df[df[target] == 1][col]), c='y')\n",
    "    ax.axvline(np.mean(df[df[target] == 0][col]), c='m')\n",
    "\n",
    "    ax.set_xlabel(col)\n",
    "    ax.set_ylabel(target)\n",
    "    ax.set_title(str(col) + \" vs. \" + target)\n",
    "\n",
    "f.subplots_adjust(wspace = 0.2, hspace=0.3)\n",
    "plt.show()"
   ]
  },
  {
   "cell_type": "markdown",
   "metadata": {},
   "source": [
    "From here we compare the means of distributions from our party songs vs non party songs. On average party songs can be distinguished as having a higher danceability, higher energy, higher loudness, and a lower instrumentalness while other audio features are relatively similar between party and non party songs. From these differences, we can attempt to train a classification ML model that can learn these differences in order to predict whether a song is a good fit for the party or not."
   ]
  },
  {
   "cell_type": "markdown",
   "metadata": {},
   "source": [
    "Step 3: Training models\n",
    "Having visualized the data, we now understand a little more about what kind of audio features make a \"party song\".  So now we wanted to choose a model that would most accuratly predict whether a song is a party or non-party song. So we want the model to predict whether a song is a party song or not, so we decided to mesaure this by having the model output a binary 1 or 0, where 1 means it is a party song and 0 means it is not a party song.  To do this, we passed in a 2 dimensional dataframe with audio feature data as the features, and a dataframe with one column, \"party\", which had a 1 or a 0 based on if we though it was a party song or not. Since we want to build a model that can distinguish between a party song a non party song, we looked at classification models such as K nearest neighbors, Random Tree Classifier, Logistic Regression, and Support Vector Machines. So overall, these models were trained based off of our subjective opinion of what a party song is, to predict whether a given song is considered party or not. We just want to see what model detected it the best, so that when we make your personal DJ based off your preferences, it can classify it the best."
   ]
  },
  {
   "cell_type": "code",
   "execution_count": 33,
   "metadata": {},
   "outputs": [
    {
     "data": {
      "text/plain": [
       "SVC(kernel='linear')"
      ]
     },
     "execution_count": 33,
     "metadata": {},
     "output_type": "execute_result"
    }
   ],
   "source": [
    "#Splitting dataframe into train and testing data\n",
    "features = music.drop([\"track_id\", \"song\", \"party\"], axis = 1)\n",
    "target = music[\"party\"]\n",
    "x_train, x_test, y_train, y_test = train_test_split(features, target, test_size = 0.3, random_state = 42)\n",
    "y_train = y_train.astype(\"int\")\n",
    "y_test = y_test.astype(\"int\")\n",
    "\n",
    "#Normalizing values\n",
    "scaler = StandardScaler()\n",
    "scaler.fit(x_train)\n",
    "x_train = scaler.transform(x_train)\n",
    "x_test = scaler.transform(x_test)\n",
    "\n",
    "#Training MODELS\n",
    "\n",
    "#KNNeighborsClassifier\n",
    "from sklearn.neighbors import KNeighborsClassifier\n",
    "kNN = KNeighborsClassifier(n_neighbors=5)\n",
    "kNN.fit(x_train, y_train)\n",
    "\n",
    "#Logistic Regression\n",
    "from sklearn.linear_model import LogisticRegression\n",
    "lr = LogisticRegression()\n",
    "lr.fit(x_train, y_train)\n",
    "\n",
    "#Random Tree Classifier\n",
    "from sklearn.ensemble import RandomForestClassifier\n",
    "rfc = RandomForestClassifier(max_depth=2, random_state=0)\n",
    "rfc.fit(x_train, y_train)\n",
    "\n",
    "#Support vector machine\n",
    "from sklearn.svm import SVC\n",
    "svm = SVC(kernel='linear')\n",
    "svm.fit(x_train, y_train)"
   ]
  },
  {
   "cell_type": "markdown",
   "metadata": {},
   "source": [
    "4) Testing the Models\n",
    "We abitrairly chose models to test.  In order to compare the models we wanted to look at a few metrics for each.  First, we wanted to see how accurate the models predictions were to the y_test data.  Then to gain more insight and assert or contradict the accuracy score, we looked at the classification report and confusion matrix.  "
   ]
  },
  {
   "cell_type": "code",
   "execution_count": 16,
   "metadata": {},
   "outputs": [
    {
     "name": "stdout",
     "output_type": "stream",
     "text": [
      "Accuracy0.9747474747474747\n",
      "              precision    recall  f1-score   support\n",
      "\n",
      "           0       0.80      0.73      0.76        11\n",
      "           1       0.98      0.99      0.99       187\n",
      "\n",
      "    accuracy                           0.97       198\n",
      "   macro avg       0.89      0.86      0.87       198\n",
      "weighted avg       0.97      0.97      0.97       198\n",
      "\n",
      "[[  8   3]\n",
      " [  2 185]]\n",
      "Accuracy0.98989898989899\n",
      "              precision    recall  f1-score   support\n",
      "\n",
      "           0       0.85      1.00      0.92        11\n",
      "           1       1.00      0.99      0.99       187\n",
      "\n",
      "    accuracy                           0.99       198\n",
      "   macro avg       0.92      0.99      0.96       198\n",
      "weighted avg       0.99      0.99      0.99       198\n",
      "\n",
      "[[ 11   0]\n",
      " [  2 185]]\n",
      "Accuracy0.9797979797979798\n",
      "              precision    recall  f1-score   support\n",
      "\n",
      "           0       0.89      0.73      0.80        11\n",
      "           1       0.98      0.99      0.99       187\n",
      "\n",
      "    accuracy                           0.98       198\n",
      "   macro avg       0.94      0.86      0.89       198\n",
      "weighted avg       0.98      0.98      0.98       198\n",
      "\n",
      "[[  8   3]\n",
      " [  1 186]]\n"
     ]
    }
   ],
   "source": [
    "#Metrics for K nearest neighbors\n",
    "y_pred_kNN = kNN.predict(x_test)\n",
    "print(\"Accuracy\" + str(accuracy_score(y_test, y_pred_kNN)))\n",
    "print(classification_report(y_test, y_pred_kNN))\n",
    "print(confusion_matrix(y_test, y_pred_kNN))\n",
    "\n",
    "#Metrics for Logistics regression\n",
    "y_pred_lr = lr.predict(x_test)\n",
    "\n",
    "print(\"Accuracy\" + str(accuracy_score(y_test, y_pred_lr)))\n",
    "print(classification_report(y_test, y_pred_lr))\n",
    "print(confusion_matrix(y_test, y_pred_lr))\n",
    "\n",
    "#Metrics for Random Tree Classifier\n",
    "y_pred_rfc = rfc.predict(x_test)\n",
    "\n",
    "print(\"Accuracy\" + str(accuracy_score(y_test, y_pred_rfc)))\n",
    "print(classification_report(y_test, y_pred_rfc))\n",
    "print(confusion_matrix(y_test, y_pred_rfc))\n",
    "\n",
    "#Metrics for SVM\n",
    "y_pred_svm = svm.predict(x_test)\n",
    "\n",
    "print(\"Accuracy\" + str(accuracy_score(y_test, y_pred_svm)))\n",
    "print(classification_report(y_test, y_pred_svm))\n",
    "print(confusion_matrix(y_test, y_pred_svm))"
   ]
  },
  {
   "cell_type": "markdown",
   "metadata": {},
   "source": [
    "Part 5: Choosing a model\n",
    "To choose a model for our DJ, we obviosly wanted the most accurate and most precise model.  When we looked through the accuracy scores, classification reports, and confusion matrices, we came to choose a logistic regression as the model for our DJ.  Although the Random Tree and K nearest neighbors has 97 and 98 percent accuracies, the logistic regression had a 99 percent accuracy.  Also if we look at the precision of classification, the logistic regression predicted 100 percent of party songs correctly.  This means that of the songs returned by the DJ, all party songs will at least be there, with some exceptions of incorrect predictions of non-party songs.  "
   ]
  },
  {
   "cell_type": "markdown",
   "metadata": {},
   "source": [
    "OKAY, now we have selected a model in which to build our DJ class around. In discjockey.py, we have encapsulated a content based recommender using a logistic regression model. You can pass this DJ your own party preferences, and it will be able to learn your party preferences from that playlist against the preset data of non party music we built. \n",
    "\n",
    "Look at README.md to learn more about what this DJ can now do!"
   ]
  }
 ],
 "metadata": {
  "kernelspec": {
   "display_name": "Python 3",
   "language": "python",
   "name": "python3"
  },
  "language_info": {
   "codemirror_mode": {
    "name": "ipython",
    "version": 3
   },
   "file_extension": ".py",
   "mimetype": "text/x-python",
   "name": "python",
   "nbconvert_exporter": "python",
   "pygments_lexer": "ipython3",
   "version": "3.8.3"
  }
 },
 "nbformat": 4,
 "nbformat_minor": 2
}
