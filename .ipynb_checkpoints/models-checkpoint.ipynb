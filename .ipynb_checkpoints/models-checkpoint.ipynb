{
 "cells": [
  {
   "cell_type": "markdown",
   "metadata": {},
   "source": [
    "# How to make a personal DJ in 5 simple steps\n",
    "\n",
    "@authors: tedi mitiku, vaughn campos\n",
    "\n",
    "We set out to create a personal DJ that had the power to act as your filter for songs you want and don't want in your party's queue. In order to do this, we needed to create a recommender system that could distinguish between a song that was \"party\" like and a song that was \"non-party\" like. To do this, we explored the audio features of a song to see if we could create a content-based recommender.\n",
    "\n",
    "We accomplished this in 5 simple steps.\n",
    "1) Setting up our Environment\n",
    "2) Retrieving/Cleaning/Visualizing/Analyzing the data\n",
    "3) Training Classification Models\n",
    "4) Testing the Models\n",
    "5) Choosing the best fit model and encapsulating the recommender in a DJ class\n",
    "\n",
    "They might not sound so simple but in this notebook we try and break it down as best as possible."
   ]
  },
  {
   "cell_type": "markdown",
   "metadata": {},
   "source": [
    "Step 1: Setting up our Environment\n",
    "To set up our environment we needed to do two things, 1) import all necessary packages for data handling and machine learning and 2) Configure our Spotify Web API Wrapper - Spotipy to allow us to retrieve music data from Spotify's API.\n",
    "Spotipy is a python wrapper for Spotify's Web API that allows you to easily retrieve music information. More info can be found here: https://spotipy.readthedocs.io/en/2.12.0/."
   ]
  },
  {
   "cell_type": "code",
   "execution_count": 1,
   "metadata": {},
   "outputs": [],
   "source": [
    "import os\n",
    "import math\n",
    "import pandas as pd\n",
    "import numpy as np\n",
    "import matplotlib\n",
    "import matplotlib.pyplot as plt\n",
    "from sklearn.model_selection import train_test_split\n",
    "from sklearn.preprocessing import StandardScaler\n",
    "from sklearn.metrics import accuracy_score, confusion_matrix, classification_report\n",
    "import spotipy\n",
    "from spotipy.oauth2 import SpotifyClientCredentials"
   ]
  },
  {
   "cell_type": "code",
   "execution_count": 2,
   "metadata": {},
   "outputs": [],
   "source": [
    "#Spotify API Setup\n",
    "SPOTIPY_CLIENT_ID = \"236e81909708434598e63e00fe671955\"\n",
    "SPOTIPY_CLIENT_SECRET = \"5d574a1eb8f940b783b72b00c5eb4658\"\n",
    "cc = SpotifyClientCredentials(client_id=SPOTIPY_CLIENT_ID, client_secret=SPOTIPY_CLIENT_SECRET)\n",
    "sp = spotipy.Spotify(client_credentials_manager=cc)"
   ]
  },
  {
   "cell_type": "markdown",
   "metadata": {},
   "source": [
    "Step 2: Retrieving/Cleaning/Visualizing/Analyzing the data\n",
    "In order to create a \"DJ\" that could recommend you party songs, we needed music data... a lot of music data. This seciton goes through the process of creating a pandas dataframe that retrieves hundreds of songs that we determined were party likeand hundreds more songs that we classified as non party like.The party songs got a 1 and the non party songs got a 0. We then passed the models the audio features as featuers and the \"party\" as a target and trained it to detect wheteher a song is \"party\" enough based off of it's audio features. Before we can do that though, we need to capture this information in a table that the model can read. "
   ]
  },
  {
   "cell_type": "code",
   "execution_count": 3,
   "metadata": {},
   "outputs": [],
   "source": [
    "#Create music dataframe of party songs and non party songs\n",
    "columns = [\"track_id\", \"song\", \"acousticness\", \"danceability\", \"energy\",\n",
    "            \"instrumentalness\", \"liveness\", \"loudness\", \"speechiness\",\n",
    "            \"valence\", \"tempo\", \"party\"]\n",
    "music = pd.DataFrame(columns=columns)"
   ]
  },
  {
   "cell_type": "code",
   "execution_count": 4,
   "metadata": {},
   "outputs": [],
   "source": [
    "#Two playlists created by us that we populated with \"party\" and \"non party songs\"\n",
    "#Here's the link to the party playlist we used: https://open.spotify.com/playlist/5ge2YqUbZrmqd2Mve8Uezf?si=m7ms4-EfQj6VFBsN5o-BbA\n",
    "party_playlist_id = \"5ge2YqUbZrmqd2Mve8Uezf?si=VVFB-RkdQMOpy1BffTeozQ\"\n",
    "#Here's the link for the non-party playlist we used: https://open.spotify.com/playlist/1vviyyoqxJyVpnNL4Cf6Xz?si=17SoNRa-RNuMVNG60DlWEg\n",
    "non_party_playlist_id = \"1vviyyoqxJyVpnNL4Cf6Xz?si=FtKKu3ICSaWPOY7st55HbQ\""
   ]
  },
  {
   "cell_type": "code",
   "execution_count": 5,
   "metadata": {},
   "outputs": [],
   "source": [
    "def song_to_df(track_id, song_name, party):\n",
    "    song_features = sp.audio_features(track_id)[0]\n",
    "    song_data = {'track_id': track_id,\n",
    "                 'song': song_name,\n",
    "                 'acousticness': song_features.get(\"acousticness\"),\n",
    "                 'danceability': song_features.get(\"danceability\"),\n",
    "                 'energy': song_features.get(\"energy\"),\n",
    "                 'instrumentalness': song_features.get(\"instrumentalness\"),\n",
    "                 'liveness': song_features.get(\"liveness\"),\n",
    "                 'loudness': song_features.get(\"loudness\"),\n",
    "                 'speechiness': song_features.get(\"speechiness\"),\n",
    "                 'valence': song_features.get(\"valence\"),\n",
    "                 'tempo': song_features.get(\"tempo\"),\n",
    "                 'party': party\n",
    "                }\n",
    "    return song_data"
   ]
  },
  {
   "cell_type": "code",
   "execution_count": 6,
   "metadata": {},
   "outputs": [],
   "source": [
    "def playlist_to_df(df, playlist_id, party):\n",
    "    songs = sp.playlist_tracks(playlist_id).get(\"tracks\").get(\"items\")\n",
    "    music_frame = df\n",
    "    for song in songs:\n",
    "        track = song.get(\"track\")\n",
    "        song_name = track.get(\"name\")\n",
    "        track_id = track.get(\"id\")\n",
    "        song_data = song_to_df(track_id, song_name, party)\n",
    "        music_frame = music_frame.append(song_data, ignore_index=True)\n",
    "\n",
    "        #In order to increase the size of our data pool, we utilize a feature from Spotifys Web API that gets 5 similar songs for every song\n",
    "        recommendations = sp.recommendations(seed_tracks=[track_id], limit = 5).get(\"tracks\")\n",
    "        for recommendation in recommendations:\n",
    "            r_song_name = recommendation.get(\"name\")\n",
    "            r_track_id = recommendation.get(\"id\")\n",
    "            r_song_data = song_to_df(r_track_id, r_song_name, party)\n",
    "            music_frame = music_frame.append(r_song_data, ignore_index=True)\n",
    "    return music_frame\n"
   ]
  },
  {
   "cell_type": "code",
   "execution_count": 7,
   "metadata": {},
   "outputs": [
    {
     "data": {
      "text/html": [
       "<div>\n",
       "<style scoped>\n",
       "    .dataframe tbody tr th:only-of-type {\n",
       "        vertical-align: middle;\n",
       "    }\n",
       "\n",
       "    .dataframe tbody tr th {\n",
       "        vertical-align: top;\n",
       "    }\n",
       "\n",
       "    .dataframe thead th {\n",
       "        text-align: right;\n",
       "    }\n",
       "</style>\n",
       "<table border=\"1\" class=\"dataframe\">\n",
       "  <thead>\n",
       "    <tr style=\"text-align: right;\">\n",
       "      <th></th>\n",
       "      <th>track_id</th>\n",
       "      <th>song</th>\n",
       "      <th>acousticness</th>\n",
       "      <th>danceability</th>\n",
       "      <th>energy</th>\n",
       "      <th>instrumentalness</th>\n",
       "      <th>liveness</th>\n",
       "      <th>loudness</th>\n",
       "      <th>speechiness</th>\n",
       "      <th>valence</th>\n",
       "      <th>tempo</th>\n",
       "      <th>party</th>\n",
       "    </tr>\n",
       "  </thead>\n",
       "  <tbody>\n",
       "    <tr>\n",
       "      <th>0</th>\n",
       "      <td>2FtX5tOFUVOyjcGQiuGR8f</td>\n",
       "      <td>Damn Right, I've Got the Blues</td>\n",
       "      <td>0.0488</td>\n",
       "      <td>0.353</td>\n",
       "      <td>0.921</td>\n",
       "      <td>0.065</td>\n",
       "      <td>0.3140</td>\n",
       "      <td>-5.640</td>\n",
       "      <td>0.0758</td>\n",
       "      <td>0.526</td>\n",
       "      <td>145.589</td>\n",
       "      <td>0</td>\n",
       "    </tr>\n",
       "    <tr>\n",
       "      <th>1</th>\n",
       "      <td>4kfeRwpq5KUaqTkgi4TbDF</td>\n",
       "      <td>Solitaires (feat. Travis Scott)</td>\n",
       "      <td>0.1220</td>\n",
       "      <td>0.691</td>\n",
       "      <td>0.632</td>\n",
       "      <td>0</td>\n",
       "      <td>0.0646</td>\n",
       "      <td>-7.598</td>\n",
       "      <td>0.0513</td>\n",
       "      <td>0.488</td>\n",
       "      <td>169.982</td>\n",
       "      <td>1</td>\n",
       "    </tr>\n",
       "    <tr>\n",
       "      <th>2</th>\n",
       "      <td>0G5qmu4TsdUH19zdcbI9Ui</td>\n",
       "      <td>Vibe With Me</td>\n",
       "      <td>0.7220</td>\n",
       "      <td>0.817</td>\n",
       "      <td>0.297</td>\n",
       "      <td>0</td>\n",
       "      <td>0.1010</td>\n",
       "      <td>-13.695</td>\n",
       "      <td>0.0553</td>\n",
       "      <td>0.443</td>\n",
       "      <td>100.031</td>\n",
       "      <td>1</td>\n",
       "    </tr>\n",
       "    <tr>\n",
       "      <th>3</th>\n",
       "      <td>7jZ4UZAmg006Qx3rVuF7JI</td>\n",
       "      <td>The Heart Of The Matter</td>\n",
       "      <td>0.2010</td>\n",
       "      <td>0.579</td>\n",
       "      <td>0.529</td>\n",
       "      <td>0</td>\n",
       "      <td>0.2310</td>\n",
       "      <td>-11.548</td>\n",
       "      <td>0.0250</td>\n",
       "      <td>0.380</td>\n",
       "      <td>88.156</td>\n",
       "      <td>0</td>\n",
       "    </tr>\n",
       "    <tr>\n",
       "      <th>4</th>\n",
       "      <td>71rHHK9L22rVdmofJTjuSd</td>\n",
       "      <td>Go Somewhere</td>\n",
       "      <td>0.0105</td>\n",
       "      <td>0.706</td>\n",
       "      <td>0.780</td>\n",
       "      <td>0</td>\n",
       "      <td>0.1640</td>\n",
       "      <td>-5.588</td>\n",
       "      <td>0.1540</td>\n",
       "      <td>0.677</td>\n",
       "      <td>124.022</td>\n",
       "      <td>1</td>\n",
       "    </tr>\n",
       "  </tbody>\n",
       "</table>\n",
       "</div>"
      ],
      "text/plain": [
       "                 track_id                             song  acousticness  \\\n",
       "0  2FtX5tOFUVOyjcGQiuGR8f   Damn Right, I've Got the Blues        0.0488   \n",
       "1  4kfeRwpq5KUaqTkgi4TbDF  Solitaires (feat. Travis Scott)        0.1220   \n",
       "2  0G5qmu4TsdUH19zdcbI9Ui                     Vibe With Me        0.7220   \n",
       "3  7jZ4UZAmg006Qx3rVuF7JI          The Heart Of The Matter        0.2010   \n",
       "4  71rHHK9L22rVdmofJTjuSd                     Go Somewhere        0.0105   \n",
       "\n",
       "   danceability  energy instrumentalness  liveness  loudness  speechiness  \\\n",
       "0         0.353   0.921            0.065    0.3140    -5.640       0.0758   \n",
       "1         0.691   0.632                0    0.0646    -7.598       0.0513   \n",
       "2         0.817   0.297                0    0.1010   -13.695       0.0553   \n",
       "3         0.579   0.529                0    0.2310   -11.548       0.0250   \n",
       "4         0.706   0.780                0    0.1640    -5.588       0.1540   \n",
       "\n",
       "   valence    tempo party  \n",
       "0    0.526  145.589     0  \n",
       "1    0.488  169.982     1  \n",
       "2    0.443  100.031     1  \n",
       "3    0.380   88.156     0  \n",
       "4    0.677  124.022     1  "
      ]
     },
     "execution_count": 7,
     "metadata": {},
     "output_type": "execute_result"
    }
   ],
   "source": [
    "#Putting all the data together to create a combined dataframe of party and non party music\n",
    "music = playlist_to_df(music, party_playlist_id, 1)\n",
    "music = playlist_to_df(music, non_party_playlist_id, 0)\n",
    "music = music.sample(frac = 1)\n",
    "music = music.reset_index();\n",
    "music = music.drop([\"index\"], axis = 1)\n",
    "music.head()"
   ]
  },
  {
   "cell_type": "markdown",
   "metadata": {},
   "source": [
    "Visualizing the data:\n",
    "\n",
    "In order to gain insights about how audio features can be used to distinguish between a party music and non party music, we want to visualize the audio features of our party music data and our non party music data and compare them to see if there are any differences that the model can pick up on."
   ]
  },
  {
   "cell_type": "code",
   "execution_count": 8,
   "metadata": {},
   "outputs": [
    {
     "data": {
      "image/png": "[encoded data removed]",
      "text/plain": [
       "<Figure size 1224x1080 with 9 Axes>"
      ]
     },
     "metadata": {
      "needs_background": "light"
     },
     "output_type": "display_data"
    }
   ],
   "source": [
    "df = music\n",
    "target = 'party'\n",
    "cols = ['acousticness', 'danceability', 'energy', 'instrumentalness', 'liveness', 'loudness', 'speechiness', 'valence', 'tempo']\n",
    "i = 0\n",
    "nRows = math.ceil(len(cols) / 3)\n",
    "nCols = 3\n",
    "f = plt.figure(figsize=(17,15))\n",
    "\n",
    "for col in cols:\n",
    "    i += 1\n",
    "    ax = f.add_subplot(nRows * 100 + nCols * 10 + i)\n",
    "    ax.scatter(df[col],df[target], c = df[target]) #np.vectorize(color_chooser)(df[target]))\n",
    "    ax.axvline(np.mean(df[df[target] == 1][col]), c='y')\n",
    "    ax.axvline(np.mean(df[df[target] == 0][col]), c='m')\n",
    "\n",
    "    ax.set_xlabel(col)\n",
    "    ax.set_ylabel(target)\n",
    "    ax.set_title(str(col) + \" vs. \" + target)\n",
    "\n",
    "f.subplots_adjust(wspace = 0.2, hspace=0.3)\n",
    "plt.show()"
   ]
  },
  {
   "cell_type": "markdown",
   "metadata": {},
   "source": [
    "From here we compare the means of distributions from our party songs vs non party songs. On average party songs can be distinguished as having a higher danceability, higher energy, higher loudness, and a lower instrumentalness while other audio features are relatively similar between party and non party songs. From these differences, we can attempt to train a classification ML model that can learn these differences in order to predict whether a song is a good fit for the party or not."
   ]
  },
  {
   "cell_type": "markdown",
   "metadata": {},
   "source": [
    "Step 3: Training models\n",
    "Having visualized the data, we now understand a little more about what kind of audio features make a \"party song\". Now we wanted to choose a model that would most accurately predict whether a song is a party or non-party song. We want the model to predict whether a song is a party song or not, so we decided to measure this by having the model output a binary 1 or 0, where 1 means it is a party song and 0 means it is not a party song.  To do this, we passed in a 2 dimensional dataframe with audio feature data as the features, and a dataframe with one column, \"party\", which had a 1 or a 0 based on if we though it was a party song or not. Since we want to build a model that can distinguish between a party song a non party song, we looked at classification models such as K nearest neighbors, Random Tree Classifier, Logistic Regression, and Support Vector Machines. Overall, these models were trained based off of our subjective opinion of what a party song is, to predict whether a given song is considered party or not. We just want to see what model detected it the best, so that when we went on to create your personal DJ based off your preferences, the DJ would be worth your money."
   ]
  },
  {
   "cell_type": "code",
   "execution_count": 9,
   "metadata": {},
   "outputs": [
    {
     "data": {
      "text/plain": [
       "SVC(kernel='linear')"
      ]
     },
     "execution_count": 9,
     "metadata": {},
     "output_type": "execute_result"
    }
   ],
   "source": [
    "#Splitting dataframe into train and testing data\n",
    "features = music.drop([\"track_id\", \"song\", \"party\"], axis = 1)\n",
    "target = music[\"party\"]\n",
    "x_train, x_test, y_train, y_test = train_test_split(features, target, test_size = 0.3, random_state = 42)\n",
    "y_train = y_train.astype(\"int\")\n",
    "y_test = y_test.astype(\"int\")\n",
    "\n",
    "#Normalizing values\n",
    "scaler = StandardScaler()\n",
    "scaler.fit(x_train)\n",
    "x_train = scaler.transform(x_train)\n",
    "x_test = scaler.transform(x_test)\n",
    "\n",
    "#Training MODELS\n",
    "\n",
    "#KNNeighborsClassifier\n",
    "from sklearn.neighbors import KNeighborsClassifier\n",
    "kNN = KNeighborsClassifier(n_neighbors=5)\n",
    "kNN.fit(x_train, y_train)\n",
    "\n",
    "#Logistic Regression\n",
    "from sklearn.linear_model import LogisticRegression\n",
    "lr = LogisticRegression()\n",
    "lr.fit(x_train, y_train)\n",
    "\n",
    "#Random Tree Classifier\n",
    "from sklearn.ensemble import RandomForestClassifier\n",
    "rfc = RandomForestClassifier(max_depth=2, random_state=0)\n",
    "rfc.fit(x_train, y_train)\n",
    "\n",
    "#Support vector machine\n",
    "from sklearn.svm import SVC\n",
    "svm = SVC(kernel='linear')\n",
    "svm.fit(x_train, y_train)"
   ]
  },
  {
   "cell_type": "markdown",
   "metadata": {},
   "source": [
    "4) Testing the Models\n",
    "In order to compare the models we wanted to look at a few metrics for each.  First, we wanted to see how accurate the models predictions were to the y_test data.  Then to gain more insight and assert or contradict the accuracy score, we looked at the classification report and confusion matrix.  "
   ]
  },
  {
   "cell_type": "code",
   "execution_count": 10,
   "metadata": {},
   "outputs": [
    {
     "name": "stdout",
     "output_type": "stream",
     "text": [
      "Accuracy0.8662952646239555\n",
      "              precision    recall  f1-score   support\n",
      "\n",
      "           0       0.94      0.79      0.86       184\n",
      "           1       0.81      0.95      0.87       175\n",
      "\n",
      "    accuracy                           0.87       359\n",
      "   macro avg       0.88      0.87      0.87       359\n",
      "weighted avg       0.88      0.87      0.87       359\n",
      "\n",
      "[[145  39]\n",
      " [  9 166]]\n",
      "Accuracy0.8857938718662952\n",
      "              precision    recall  f1-score   support\n",
      "\n",
      "           0       0.93      0.84      0.88       184\n",
      "           1       0.85      0.93      0.89       175\n",
      "\n",
      "    accuracy                           0.89       359\n",
      "   macro avg       0.89      0.89      0.89       359\n",
      "weighted avg       0.89      0.89      0.89       359\n",
      "\n",
      "[[155  29]\n",
      " [ 12 163]]\n",
      "Accuracy0.8217270194986073\n",
      "              precision    recall  f1-score   support\n",
      "\n",
      "           0       0.91      0.73      0.81       184\n",
      "           1       0.76      0.92      0.83       175\n",
      "\n",
      "    accuracy                           0.82       359\n",
      "   macro avg       0.83      0.82      0.82       359\n",
      "weighted avg       0.84      0.82      0.82       359\n",
      "\n",
      "[[134  50]\n",
      " [ 14 161]]\n",
      "Accuracy0.883008356545961\n",
      "              precision    recall  f1-score   support\n",
      "\n",
      "           0       0.92      0.84      0.88       184\n",
      "           1       0.85      0.93      0.89       175\n",
      "\n",
      "    accuracy                           0.88       359\n",
      "   macro avg       0.89      0.88      0.88       359\n",
      "weighted avg       0.89      0.88      0.88       359\n",
      "\n",
      "[[155  29]\n",
      " [ 13 162]]\n"
     ]
    }
   ],
   "source": [
    "#Metrics for K nearest neighbors\n",
    "y_pred_kNN = kNN.predict(x_test)\n",
    "print(\"Accuracy\" + str(accuracy_score(y_test, y_pred_kNN)))\n",
    "print(classification_report(y_test, y_pred_kNN))\n",
    "print(confusion_matrix(y_test, y_pred_kNN))\n",
    "\n",
    "#Metrics for Logistics regression\n",
    "y_pred_lr = lr.predict(x_test)\n",
    "\n",
    "print(\"Accuracy\" + str(accuracy_score(y_test, y_pred_lr)))\n",
    "print(classification_report(y_test, y_pred_lr))\n",
    "print(confusion_matrix(y_test, y_pred_lr))\n",
    "\n",
    "#Metrics for Random Tree Classifier\n",
    "y_pred_rfc = rfc.predict(x_test)\n",
    "\n",
    "print(\"Accuracy\" + str(accuracy_score(y_test, y_pred_rfc)))\n",
    "print(classification_report(y_test, y_pred_rfc))\n",
    "print(confusion_matrix(y_test, y_pred_rfc))\n",
    "\n",
    "#Metrics for SVM\n",
    "y_pred_svm = svm.predict(x_test)\n",
    "\n",
    "print(\"Accuracy\" + str(accuracy_score(y_test, y_pred_svm)))\n",
    "print(classification_report(y_test, y_pred_svm))\n",
    "print(confusion_matrix(y_test, y_pred_svm))"
   ]
  },
  {
   "cell_type": "markdown",
   "metadata": {},
   "source": [
    "Part 5: Choosing a model\n",
    "To choose a model for our DJ, we wanted the most accurate and precise model.  When we looked through the accuracy scores, classification reports, and confusion matrices, we came to choose a logistic regression as the model for our DJ.  Although the Random Tree and K nearest neighbors has 97 and 98 percent accuracies, the logistic regression had a 99 percent accuracy.  Also, if we look at the precision of classification, the logistic regression predicted 100 percent of party songs correctly.  This means that of the songs returned by the DJ, all party songs will at least be there, with some exceptions of incorrect predictions of non-party songs.  "
   ]
  },
  {
   "cell_type": "markdown",
   "metadata": {},
   "source": [
    "OKAY, now we have selected a model in which to build our DJ class around. In discjockey.py, we have encapsulated a content based recommender using a logistic regression model. You can pass this DJ your own party preferences, and it will be able to learn your party preferences from that playlist against the preset data of non party music we created. \n",
    "\n",
    "Look at README.md to learn more about what this DJ can now do!"
   ]
  }
 ],
 "metadata": {
  "kernelspec": {
   "display_name": "Python 3",
   "language": "python",
   "name": "python3"
  },
  "language_info": {
   "codemirror_mode": {
    "name": "ipython",
    "version": 3
   },
   "file_extension": ".py",
   "mimetype": "text/x-python",
   "name": "python",
   "nbconvert_exporter": "python",
   "pygments_lexer": "ipython3",
   "version": "3.8.3"
  }
 },
 "nbformat": 4,
 "nbformat_minor": 2
}
